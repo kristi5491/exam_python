{
 "cells": [
  {
   "cell_type": "markdown",
   "metadata": {},
   "source": [
    "Савчин Христина:\n",
    "\n",
    "Симулятор бібліотеки\n",
    "Створіть клас 'Бібліотека', який міститиме список книг (об'єкти класу 'Книга'). Кожна книга має властивості: назва, автор, жанр, рік видання. Реалізуйте методи для додавання книг, пошуку книги за назвою, видалення книги та виведення всіх книг певного жанру."
   ]
  },
  {
   "cell_type": "code",
   "execution_count": 5,
   "metadata": {},
   "outputs": [
    {
     "name": "stdout",
     "output_type": "stream",
     "text": [
      "Book 'Game of Thrones' successfully added to the library.\n",
      "Book '1984' successfully added to the library.\n",
      "Book 'Master and Margarita' successfully added to the library.\n",
      "Books in the genre 'Fantasy':\n",
      "Game of Thrones (George R. R. Martin, 1996-01-01 00:00:00)\n",
      "Found book: 1984 Wrote By ,George Orwell, In 1949)\n",
      "Book 'Game of Thrones' removed from the library.\n",
      "No books found in the genre 'Fantasy'.\n"
     ]
    }
   ],
   "source": [
    "from datetime import datetime\n",
    "\n",
    "class Book:\n",
    "    def __init__(self, title, author, genre, publication_year: int):\n",
    "        self.title = title\n",
    "        self.author = author\n",
    "        self.genre = genre\n",
    "        self.publication_year = publication_year\n",
    "\n",
    "class Library:\n",
    "    def __init__(self):\n",
    "        self.books = []\n",
    "\n",
    "    def add_book(self, book):\n",
    "        self.books.append(book)\n",
    "        print(f\"Book '{book.title}' successfully added to the library.\")\n",
    "\n",
    "    def search_book_by_title(self, title):\n",
    "        for book in self.books:\n",
    "            if book.title == title:\n",
    "                return book\n",
    "        print('No book found!')\n",
    "        return None\n",
    "\n",
    "    def remove_book(self, title):\n",
    "        book = self.search_book_by_title(title)\n",
    "        if book:\n",
    "            self.books.remove(book)\n",
    "            print(f\"Book '{title}' removed from the library.\")\n",
    "        else:\n",
    "            print(f\"Book '{title}' not found in the library.\")\n",
    "\n",
    "    def all_books_of_genre(self, genre):\n",
    "        found_books = []\n",
    "        for book in self.books:\n",
    "            if book.genre == genre:\n",
    "                found_books.append(book)\n",
    "\n",
    "        if found_books:\n",
    "            print(f\"Books in the genre '{genre}':\")\n",
    "            for book in found_books:\n",
    "                print(f\"{book.title} ({book.author}, {book.publication_year})\")\n",
    "        else:\n",
    "            print(f\"No books found in the genre '{genre}'.\")\n",
    "\n",
    "\n",
    "library = Library()\n",
    "\n",
    "book1 = Book(\"Game of Thrones\", \"George R. R. Martin\", \"Fantasy\", datetime(1996, 1, 1))\n",
    "book2 = Book(\"1984\", \"George Orwell\", \"Dystopia\", datetime(1949, 1, 1))\n",
    "book3 = Book(\"Master and Margarita\", \"Mikhail Bulgakov\", \"Fiction\", datetime(1966, 1, 1))\n",
    "\n",
    "library.add_book(book1)\n",
    "library.add_book(book2)\n",
    "library.add_book(book3)\n",
    "\n",
    "library.all_books_of_genre(\"Fantasy\")\n",
    "\n",
    "searched_book = library.search_book_by_title(\"1984\")\n",
    "if searched_book:\n",
    "    print(f\"Found book: {searched_book.title} Wrote By ,{searched_book.author}, In {searched_book.publication_year.year})\")\n",
    "\n",
    "library.remove_book(\"Game of Thrones\")\n",
    "\n",
    "library.all_books_of_genre(\"Fantasy\")\n"
   ]
  }
 ],
 "metadata": {
  "kernelspec": {
   "display_name": "Python 3",
   "language": "python",
   "name": "python3"
  },
  "language_info": {
   "codemirror_mode": {
    "name": "ipython",
    "version": 3
   },
   "file_extension": ".py",
   "mimetype": "text/x-python",
   "name": "python",
   "nbconvert_exporter": "python",
   "pygments_lexer": "ipython3",
   "version": "3.11.6"
  },
  "orig_nbformat": 4
 },
 "nbformat": 4,
 "nbformat_minor": 2
}
